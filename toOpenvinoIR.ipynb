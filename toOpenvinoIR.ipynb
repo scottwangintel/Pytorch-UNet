{
 "cells": [
  {
   "cell_type": "markdown",
   "id": "e5447b43-7dcf-4bd8-8337-656fd4222f8b",
   "metadata": {},
   "source": [
    "# Code to convert Pytorch-UNet trained mode to OpenVINO IR"
   ]
  },
  {
   "cell_type": "markdown",
   "id": "cfc0bd25-88d2-43c3-ad10-54b3f4768e3f",
   "metadata": {},
   "source": [
    "https://pytorch.org/tutorials/beginner/saving_loading_models.html"
   ]
  },
  {
   "cell_type": "code",
   "execution_count": 1,
   "id": "920cb211-f8ad-4b9a-92ca-d529a2f05fa5",
   "metadata": {},
   "outputs": [],
   "source": [
    "from pathlib import Path\n",
    "import torch\n",
    "import openvino as ov\n",
    "from unet import UNet"
   ]
  },
  {
   "cell_type": "code",
   "execution_count": 2,
   "id": "d0579189-9e3e-49d2-b50a-82985f68312f",
   "metadata": {},
   "outputs": [
    {
     "name": "stdout",
     "output_type": "stream",
     "text": [
      "/home/qwang12/src/Pytorch-UNet-scottwangintel/Pytorch-UNet\n"
     ]
    }
   ],
   "source": [
    "  import os\n",
    "  print(os.getcwd())"
   ]
  },
  {
   "cell_type": "code",
   "execution_count": 3,
   "id": "42bf9bcc-3741-48a5-9cb9-2b8caf940b9e",
   "metadata": {},
   "outputs": [],
   "source": [
    "# Specify the path to the model file\n",
    "model_path = './checkpoints-0703/checkpoint_epoch5.pth'\n",
    "cwd = Path.cwd()\n",
    "model_path = cwd / model_path"
   ]
  },
  {
   "cell_type": "code",
   "execution_count": 4,
   "id": "3a9a8327-cbaa-4433-a118-36ef24581f52",
   "metadata": {},
   "outputs": [
    {
     "name": "stdout",
     "output_type": "stream",
     "text": [
      "Keys in the loaded state_dict:\n",
      "inc.double_conv.0.weight\n",
      "inc.double_conv.1.weight\n",
      "inc.double_conv.1.bias\n",
      "inc.double_conv.1.running_mean\n",
      "inc.double_conv.1.running_var\n",
      "inc.double_conv.1.num_batches_tracked\n",
      "inc.double_conv.3.weight\n",
      "inc.double_conv.4.weight\n",
      "inc.double_conv.4.bias\n",
      "inc.double_conv.4.running_mean\n",
      "inc.double_conv.4.running_var\n",
      "inc.double_conv.4.num_batches_tracked\n",
      "down1.maxpool_conv.1.double_conv.0.weight\n",
      "down1.maxpool_conv.1.double_conv.1.weight\n",
      "down1.maxpool_conv.1.double_conv.1.bias\n",
      "down1.maxpool_conv.1.double_conv.1.running_mean\n",
      "down1.maxpool_conv.1.double_conv.1.running_var\n",
      "down1.maxpool_conv.1.double_conv.1.num_batches_tracked\n",
      "down1.maxpool_conv.1.double_conv.3.weight\n",
      "down1.maxpool_conv.1.double_conv.4.weight\n",
      "down1.maxpool_conv.1.double_conv.4.bias\n",
      "down1.maxpool_conv.1.double_conv.4.running_mean\n",
      "down1.maxpool_conv.1.double_conv.4.running_var\n",
      "down1.maxpool_conv.1.double_conv.4.num_batches_tracked\n",
      "down2.maxpool_conv.1.double_conv.0.weight\n",
      "down2.maxpool_conv.1.double_conv.1.weight\n",
      "down2.maxpool_conv.1.double_conv.1.bias\n",
      "down2.maxpool_conv.1.double_conv.1.running_mean\n",
      "down2.maxpool_conv.1.double_conv.1.running_var\n",
      "down2.maxpool_conv.1.double_conv.1.num_batches_tracked\n",
      "down2.maxpool_conv.1.double_conv.3.weight\n",
      "down2.maxpool_conv.1.double_conv.4.weight\n",
      "down2.maxpool_conv.1.double_conv.4.bias\n",
      "down2.maxpool_conv.1.double_conv.4.running_mean\n",
      "down2.maxpool_conv.1.double_conv.4.running_var\n",
      "down2.maxpool_conv.1.double_conv.4.num_batches_tracked\n",
      "down3.maxpool_conv.1.double_conv.0.weight\n",
      "down3.maxpool_conv.1.double_conv.1.weight\n",
      "down3.maxpool_conv.1.double_conv.1.bias\n",
      "down3.maxpool_conv.1.double_conv.1.running_mean\n",
      "down3.maxpool_conv.1.double_conv.1.running_var\n",
      "down3.maxpool_conv.1.double_conv.1.num_batches_tracked\n",
      "down3.maxpool_conv.1.double_conv.3.weight\n",
      "down3.maxpool_conv.1.double_conv.4.weight\n",
      "down3.maxpool_conv.1.double_conv.4.bias\n",
      "down3.maxpool_conv.1.double_conv.4.running_mean\n",
      "down3.maxpool_conv.1.double_conv.4.running_var\n",
      "down3.maxpool_conv.1.double_conv.4.num_batches_tracked\n",
      "down4.maxpool_conv.1.double_conv.0.weight\n",
      "down4.maxpool_conv.1.double_conv.1.weight\n",
      "down4.maxpool_conv.1.double_conv.1.bias\n",
      "down4.maxpool_conv.1.double_conv.1.running_mean\n",
      "down4.maxpool_conv.1.double_conv.1.running_var\n",
      "down4.maxpool_conv.1.double_conv.1.num_batches_tracked\n",
      "down4.maxpool_conv.1.double_conv.3.weight\n",
      "down4.maxpool_conv.1.double_conv.4.weight\n",
      "down4.maxpool_conv.1.double_conv.4.bias\n",
      "down4.maxpool_conv.1.double_conv.4.running_mean\n",
      "down4.maxpool_conv.1.double_conv.4.running_var\n",
      "down4.maxpool_conv.1.double_conv.4.num_batches_tracked\n",
      "up1.up.weight\n",
      "up1.up.bias\n",
      "up1.conv.double_conv.0.weight\n",
      "up1.conv.double_conv.1.weight\n",
      "up1.conv.double_conv.1.bias\n",
      "up1.conv.double_conv.1.running_mean\n",
      "up1.conv.double_conv.1.running_var\n",
      "up1.conv.double_conv.1.num_batches_tracked\n",
      "up1.conv.double_conv.3.weight\n",
      "up1.conv.double_conv.4.weight\n",
      "up1.conv.double_conv.4.bias\n",
      "up1.conv.double_conv.4.running_mean\n",
      "up1.conv.double_conv.4.running_var\n",
      "up1.conv.double_conv.4.num_batches_tracked\n",
      "up2.up.weight\n",
      "up2.up.bias\n",
      "up2.conv.double_conv.0.weight\n",
      "up2.conv.double_conv.1.weight\n",
      "up2.conv.double_conv.1.bias\n",
      "up2.conv.double_conv.1.running_mean\n",
      "up2.conv.double_conv.1.running_var\n",
      "up2.conv.double_conv.1.num_batches_tracked\n",
      "up2.conv.double_conv.3.weight\n",
      "up2.conv.double_conv.4.weight\n",
      "up2.conv.double_conv.4.bias\n",
      "up2.conv.double_conv.4.running_mean\n",
      "up2.conv.double_conv.4.running_var\n",
      "up2.conv.double_conv.4.num_batches_tracked\n",
      "up3.up.weight\n",
      "up3.up.bias\n",
      "up3.conv.double_conv.0.weight\n",
      "up3.conv.double_conv.1.weight\n",
      "up3.conv.double_conv.1.bias\n",
      "up3.conv.double_conv.1.running_mean\n",
      "up3.conv.double_conv.1.running_var\n",
      "up3.conv.double_conv.1.num_batches_tracked\n",
      "up3.conv.double_conv.3.weight\n",
      "up3.conv.double_conv.4.weight\n",
      "up3.conv.double_conv.4.bias\n",
      "up3.conv.double_conv.4.running_mean\n",
      "up3.conv.double_conv.4.running_var\n",
      "up3.conv.double_conv.4.num_batches_tracked\n",
      "up4.up.weight\n",
      "up4.up.bias\n",
      "up4.conv.double_conv.0.weight\n",
      "up4.conv.double_conv.1.weight\n",
      "up4.conv.double_conv.1.bias\n",
      "up4.conv.double_conv.1.running_mean\n",
      "up4.conv.double_conv.1.running_var\n",
      "up4.conv.double_conv.1.num_batches_tracked\n",
      "up4.conv.double_conv.3.weight\n",
      "up4.conv.double_conv.4.weight\n",
      "up4.conv.double_conv.4.bias\n",
      "up4.conv.double_conv.4.running_mean\n",
      "up4.conv.double_conv.4.running_var\n",
      "up4.conv.double_conv.4.num_batches_tracked\n",
      "outc.conv.weight\n",
      "outc.conv.bias\n",
      "mask_values\n"
     ]
    }
   ],
   "source": [
    "# Load the state dictionary from the file without loading it into the model\n",
    "state_dict = torch.load(model_path)\n",
    "\n",
    "# Print all keys in the state dictionary\n",
    "print(\"Keys in the loaded state_dict:\")\n",
    "for key in state_dict.keys():\n",
    "    print(key)"
   ]
  },
  {
   "cell_type": "code",
   "execution_count": 5,
   "id": "95ae92d0-9438-4dbc-b4ab-524f2eea62c7",
   "metadata": {},
   "outputs": [
    {
     "name": "stdout",
     "output_type": "stream",
     "text": [
      "Keys expected by the UNet model:\n",
      "inc.double_conv.0.weight\n",
      "inc.double_conv.1.weight\n",
      "inc.double_conv.1.bias\n",
      "inc.double_conv.1.running_mean\n",
      "inc.double_conv.1.running_var\n",
      "inc.double_conv.1.num_batches_tracked\n",
      "inc.double_conv.3.weight\n",
      "inc.double_conv.4.weight\n",
      "inc.double_conv.4.bias\n",
      "inc.double_conv.4.running_mean\n",
      "inc.double_conv.4.running_var\n",
      "inc.double_conv.4.num_batches_tracked\n",
      "down1.maxpool_conv.1.double_conv.0.weight\n",
      "down1.maxpool_conv.1.double_conv.1.weight\n",
      "down1.maxpool_conv.1.double_conv.1.bias\n",
      "down1.maxpool_conv.1.double_conv.1.running_mean\n",
      "down1.maxpool_conv.1.double_conv.1.running_var\n",
      "down1.maxpool_conv.1.double_conv.1.num_batches_tracked\n",
      "down1.maxpool_conv.1.double_conv.3.weight\n",
      "down1.maxpool_conv.1.double_conv.4.weight\n",
      "down1.maxpool_conv.1.double_conv.4.bias\n",
      "down1.maxpool_conv.1.double_conv.4.running_mean\n",
      "down1.maxpool_conv.1.double_conv.4.running_var\n",
      "down1.maxpool_conv.1.double_conv.4.num_batches_tracked\n",
      "down2.maxpool_conv.1.double_conv.0.weight\n",
      "down2.maxpool_conv.1.double_conv.1.weight\n",
      "down2.maxpool_conv.1.double_conv.1.bias\n",
      "down2.maxpool_conv.1.double_conv.1.running_mean\n",
      "down2.maxpool_conv.1.double_conv.1.running_var\n",
      "down2.maxpool_conv.1.double_conv.1.num_batches_tracked\n",
      "down2.maxpool_conv.1.double_conv.3.weight\n",
      "down2.maxpool_conv.1.double_conv.4.weight\n",
      "down2.maxpool_conv.1.double_conv.4.bias\n",
      "down2.maxpool_conv.1.double_conv.4.running_mean\n",
      "down2.maxpool_conv.1.double_conv.4.running_var\n",
      "down2.maxpool_conv.1.double_conv.4.num_batches_tracked\n",
      "down3.maxpool_conv.1.double_conv.0.weight\n",
      "down3.maxpool_conv.1.double_conv.1.weight\n",
      "down3.maxpool_conv.1.double_conv.1.bias\n",
      "down3.maxpool_conv.1.double_conv.1.running_mean\n",
      "down3.maxpool_conv.1.double_conv.1.running_var\n",
      "down3.maxpool_conv.1.double_conv.1.num_batches_tracked\n",
      "down3.maxpool_conv.1.double_conv.3.weight\n",
      "down3.maxpool_conv.1.double_conv.4.weight\n",
      "down3.maxpool_conv.1.double_conv.4.bias\n",
      "down3.maxpool_conv.1.double_conv.4.running_mean\n",
      "down3.maxpool_conv.1.double_conv.4.running_var\n",
      "down3.maxpool_conv.1.double_conv.4.num_batches_tracked\n",
      "down4.maxpool_conv.1.double_conv.0.weight\n",
      "down4.maxpool_conv.1.double_conv.1.weight\n",
      "down4.maxpool_conv.1.double_conv.1.bias\n",
      "down4.maxpool_conv.1.double_conv.1.running_mean\n",
      "down4.maxpool_conv.1.double_conv.1.running_var\n",
      "down4.maxpool_conv.1.double_conv.1.num_batches_tracked\n",
      "down4.maxpool_conv.1.double_conv.3.weight\n",
      "down4.maxpool_conv.1.double_conv.4.weight\n",
      "down4.maxpool_conv.1.double_conv.4.bias\n",
      "down4.maxpool_conv.1.double_conv.4.running_mean\n",
      "down4.maxpool_conv.1.double_conv.4.running_var\n",
      "down4.maxpool_conv.1.double_conv.4.num_batches_tracked\n",
      "up1.up.weight\n",
      "up1.up.bias\n",
      "up1.conv.double_conv.0.weight\n",
      "up1.conv.double_conv.1.weight\n",
      "up1.conv.double_conv.1.bias\n",
      "up1.conv.double_conv.1.running_mean\n",
      "up1.conv.double_conv.1.running_var\n",
      "up1.conv.double_conv.1.num_batches_tracked\n",
      "up1.conv.double_conv.3.weight\n",
      "up1.conv.double_conv.4.weight\n",
      "up1.conv.double_conv.4.bias\n",
      "up1.conv.double_conv.4.running_mean\n",
      "up1.conv.double_conv.4.running_var\n",
      "up1.conv.double_conv.4.num_batches_tracked\n",
      "up2.up.weight\n",
      "up2.up.bias\n",
      "up2.conv.double_conv.0.weight\n",
      "up2.conv.double_conv.1.weight\n",
      "up2.conv.double_conv.1.bias\n",
      "up2.conv.double_conv.1.running_mean\n",
      "up2.conv.double_conv.1.running_var\n",
      "up2.conv.double_conv.1.num_batches_tracked\n",
      "up2.conv.double_conv.3.weight\n",
      "up2.conv.double_conv.4.weight\n",
      "up2.conv.double_conv.4.bias\n",
      "up2.conv.double_conv.4.running_mean\n",
      "up2.conv.double_conv.4.running_var\n",
      "up2.conv.double_conv.4.num_batches_tracked\n",
      "up3.up.weight\n",
      "up3.up.bias\n",
      "up3.conv.double_conv.0.weight\n",
      "up3.conv.double_conv.1.weight\n",
      "up3.conv.double_conv.1.bias\n",
      "up3.conv.double_conv.1.running_mean\n",
      "up3.conv.double_conv.1.running_var\n",
      "up3.conv.double_conv.1.num_batches_tracked\n",
      "up3.conv.double_conv.3.weight\n",
      "up3.conv.double_conv.4.weight\n",
      "up3.conv.double_conv.4.bias\n",
      "up3.conv.double_conv.4.running_mean\n",
      "up3.conv.double_conv.4.running_var\n",
      "up3.conv.double_conv.4.num_batches_tracked\n",
      "up4.up.weight\n",
      "up4.up.bias\n",
      "up4.conv.double_conv.0.weight\n",
      "up4.conv.double_conv.1.weight\n",
      "up4.conv.double_conv.1.bias\n",
      "up4.conv.double_conv.1.running_mean\n",
      "up4.conv.double_conv.1.running_var\n",
      "up4.conv.double_conv.1.num_batches_tracked\n",
      "up4.conv.double_conv.3.weight\n",
      "up4.conv.double_conv.4.weight\n",
      "up4.conv.double_conv.4.bias\n",
      "up4.conv.double_conv.4.running_mean\n",
      "up4.conv.double_conv.4.running_var\n",
      "up4.conv.double_conv.4.num_batches_tracked\n",
      "outc.conv.weight\n",
      "outc.conv.bias\n"
     ]
    }
   ],
   "source": [
    "# Initialize a new UNet model\n",
    "model = UNet(n_channels=3, n_classes=2, bilinear=False)\n",
    "\n",
    "# Get the state dictionary of the new model\n",
    "new_state_dict = model.state_dict()\n",
    "\n",
    "# Print all keys expected by the UNet model\n",
    "print(\"Keys expected by the UNet model:\")\n",
    "for key in new_state_dict.keys():\n",
    "    print(key)"
   ]
  },
  {
   "cell_type": "code",
   "execution_count": 6,
   "id": "0213f343-5e4f-4599-ab1f-043c66842ef5",
   "metadata": {},
   "outputs": [],
   "source": [
    "def load_model(model_path):\n",
    "    # Initialize the model\n",
    "    model = UNet(3, 2, False)\n",
    "    \n",
    "    # Load the state dictionary from the file\n",
    "    state_dict = torch.load(model_path)\n",
    "    \n",
    "    # Remove the unexpected key\n",
    "    state_dict.pop('mask_values', None)  # This removes 'mask_values' if it exists, and does nothing if it doesn't\n",
    "    \n",
    "    # Load the state dictionary into the model\n",
    "    model.load_state_dict(state_dict, strict=False)\n",
    "    \n",
    "    # Set the model to evaluation mode\n",
    "    model.eval()\n",
    "    \n",
    "    return model"
   ]
  },
  {
   "cell_type": "code",
   "execution_count": 7,
   "id": "f93bc88b-54de-435e-a3b3-570e29acf2bb",
   "metadata": {},
   "outputs": [
    {
     "name": "stdout",
     "output_type": "stream",
     "text": [
      "Model loaded successfully!\n"
     ]
    }
   ],
   "source": [
    "# Check if the model path exists\n",
    "if model_path.exists():\n",
    "    # Load the model\n",
    "    loaded_model = load_model(model_path)\n",
    "    print(\"Model loaded successfully!\")\n",
    "else:\n",
    "    print(f\"Error: The specified model path does not exist: {model_path}\")"
   ]
  },
  {
   "cell_type": "code",
   "execution_count": 8,
   "id": "3f615a36-b2ac-4c44-8a0e-1ab061ca9597",
   "metadata": {},
   "outputs": [],
   "source": [
    "ov_model = ov.convert_model(loaded_model, input=[1, 3, 256, 256])\n"
   ]
  },
  {
   "cell_type": "code",
   "execution_count": 9,
   "id": "1314b7f8-62ea-4c40-b621-19d88225c55e",
   "metadata": {},
   "outputs": [],
   "source": [
    "# Save the OpenVINO IR files\n",
    "ir_model_path = model_path.with_suffix('') / \"shape-1-3-256-256\"\n",
    "xml_path = ir_model_path.with_suffix('.xml')\n",
    "bin_path = ir_model_path.with_suffix('.bin')"
   ]
  },
  {
   "cell_type": "code",
   "execution_count": 10,
   "id": "dea6e5ba-11c8-48ba-b0e6-b1dc5f38854a",
   "metadata": {},
   "outputs": [
    {
     "name": "stdout",
     "output_type": "stream",
     "text": [
      "/home/qwang12/src/Pytorch-UNet-scottwangintel/Pytorch-UNet/checkpoints-0703/checkpoint_epoch5/shape-1-3-256-256.xml\n"
     ]
    }
   ],
   "source": [
    "print (xml_path)"
   ]
  },
  {
   "cell_type": "code",
   "execution_count": 11,
   "id": "1b9325fc-046c-4aa1-a0b8-8626627f05af",
   "metadata": {},
   "outputs": [],
   "source": [
    "ov.save_model(ov_model, xml_path)"
   ]
  },
  {
   "cell_type": "code",
   "execution_count": 12,
   "id": "4cb1dfc3-02e5-49cf-b0f7-62dda9b585f3",
   "metadata": {},
   "outputs": [
    {
     "name": "stdout",
     "output_type": "stream",
     "text": [
      "<?xml version=\"1.0\"?>\n",
      "<net name=\"Model0\" version=\"11\">\n",
      "<layers>\n",
      "<layer id=\"0\" name=\"x\" type=\"Parameter\" version=\"opset1\">\n",
      "<data shape=\"1,3,256,256\" element_type=\"f32\" />\n",
      "<output>\n",
      "<port id=\"0\" precision=\"FP32\" names=\"x\">\n",
      "<dim>1</dim>\n",
      "<dim>3</dim>\n",
      "<dim>256</dim>\n"
     ]
    }
   ],
   "source": [
    "# Read and print the first 10 lines of the XML file\n",
    "with open(xml_path, 'r') as file:\n",
    "    for _ in range(10):\n",
    "        print(file.readline().strip())"
   ]
  }
 ],
 "metadata": {
  "kernelspec": {
   "display_name": "Python 3 (ipykernel)",
   "language": "python",
   "name": "python3"
  },
  "language_info": {
   "codemirror_mode": {
    "name": "ipython",
    "version": 3
   },
   "file_extension": ".py",
   "mimetype": "text/x-python",
   "name": "python",
   "nbconvert_exporter": "python",
   "pygments_lexer": "ipython3",
   "version": "3.9.19"
  }
 },
 "nbformat": 4,
 "nbformat_minor": 5
}
